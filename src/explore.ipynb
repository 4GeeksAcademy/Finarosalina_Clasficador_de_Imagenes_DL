{
    "cells": [
        {
            "cell_type": "markdown",
            "metadata": {},
            "source": [
                "# Explore here"
            ]
        },
        {
            "cell_type": "code",
            "execution_count": 1,
            "metadata": {},
            "outputs": [
                {
                    "ename": "ModuleNotFoundError",
                    "evalue": "No module named 'tensorflow'",
                    "output_type": "error",
                    "traceback": [
                        "\u001b[31m---------------------------------------------------------------------------\u001b[39m",
                        "\u001b[31mModuleNotFoundError\u001b[39m                       Traceback (most recent call last)",
                        "\u001b[36mCell\u001b[39m\u001b[36m \u001b[39m\u001b[32mIn[1]\u001b[39m\u001b[32m, line 3\u001b[39m\n\u001b[32m      1\u001b[39m \u001b[38;5;28;01mimport\u001b[39;00m\u001b[38;5;250m \u001b[39m\u001b[34;01mpandas\u001b[39;00m\u001b[38;5;250m \u001b[39m\u001b[38;5;28;01mas\u001b[39;00m\u001b[38;5;250m \u001b[39m\u001b[34;01mpd\u001b[39;00m\n\u001b[32m      2\u001b[39m \u001b[38;5;28;01mfrom\u001b[39;00m\u001b[38;5;250m \u001b[39m\u001b[34;01msklearn\u001b[39;00m\u001b[34;01m.\u001b[39;00m\u001b[34;01mmodel_selection\u001b[39;00m\u001b[38;5;250m \u001b[39m\u001b[38;5;28;01mimport\u001b[39;00m train_test_split\n\u001b[32m----> \u001b[39m\u001b[32m3\u001b[39m \u001b[38;5;28;01mfrom\u001b[39;00m\u001b[38;5;250m \u001b[39m\u001b[34;01mtensorflow\u001b[39;00m\u001b[34;01m.\u001b[39;00m\u001b[34;01mkeras\u001b[39;00m\u001b[34;01m.\u001b[39;00m\u001b[34;01mutils\u001b[39;00m\u001b[38;5;250m \u001b[39m\u001b[38;5;28;01mimport\u001b[39;00m set_random_seed\n\u001b[32m      4\u001b[39m \u001b[38;5;28;01mfrom\u001b[39;00m\u001b[38;5;250m \u001b[39m\u001b[34;01msklearn\u001b[39;00m\u001b[34;01m.\u001b[39;00m\u001b[34;01mmetrics\u001b[39;00m\u001b[38;5;250m \u001b[39m\u001b[38;5;28;01mimport\u001b[39;00m accuracy_score\n\u001b[32m      5\u001b[39m \u001b[38;5;28;01mfrom\u001b[39;00m\u001b[38;5;250m \u001b[39m\u001b[34;01mtensorflow\u001b[39;00m\u001b[34;01m.\u001b[39;00m\u001b[34;01mkeras\u001b[39;00m\u001b[34;01m.\u001b[39;00m\u001b[34;01mdatasets\u001b[39;00m\u001b[38;5;250m \u001b[39m\u001b[38;5;28;01mimport\u001b[39;00m mnist\n",
                        "\u001b[31mModuleNotFoundError\u001b[39m: No module named 'tensorflow'"
                    ]
                }
            ],
            "source": [
                "import pandas as pd\n",
                "from sklearn.model_selection import train_test_split\n",
                "from tensorflow.keras.utils import set_random_seed\n",
                "from sklearn.metrics import accuracy_score\n",
                "from tensorflow.keras.datasets import mnist\n",
                "from tensorflow.keras.layers import Dense, Flatten\n",
                "from tensorflow.keras.models import Sequential\n",
                "from tensorflow.keras.losses import SparseCategoricalCrossentropy"
            ]
        },
        {
            "cell_type": "markdown",
            "metadata": {},
            "source": [
                "Requisitos previos (una sola vez)\n",
                "1. Crea tu token de API de Kaggle:\n",
                "Ve a: https://www.kaggle.com/account\n",
                "\n",
                "En la sección API, haz clic en Create New API Token\n",
                "\n",
                "Se descargará un archivo llamado kaggle.json\n",
                "\n",
                "2. Guarda el archivo kaggle.json en tu proyecto:\n",
                "Colócalo en la siguiente ruta (o adapta según tu entorno):\n",
                "\n",
                "bash\n",
                "Copiar\n",
                "Editar\n",
                "/workspaces/Finarosalina_Clasficador_de_Imagenes_DL/kaggle.json"
            ]
        },
        {
            "cell_type": "markdown",
            "metadata": {},
            "source": [
                "import os\n",
                "import zipfile\n",
                "from kaggle.api.kaggle_api_extended import KaggleApi\n",
                "\n",
                "# Ruta base donde trabajarás\n",
                "base_dir = \"/workspaces/Finarosalina_Clasficador_de_Imagenes_DL/data/raw\"\n",
                "os.makedirs(base_dir, exist_ok=True)\n",
                "\n",
                "# Configurar Kaggle API\n",
                "os.environ['KAGGLE_CONFIG_DIR'] = '/workspaces/Finarosalina_Clasficador_de_Imagenes_DL'\n",
                "\n",
                "# Inicializar API\n",
                "api = KaggleApi()\n",
                "api.authenticate()\n",
                "\n",
                "# Descargar el archivo train.zip del dataset\n",
                "print(\"Descargando 'train.zip' desde Kaggle...\")\n",
                "api.competition_download_file('dogs-vs-cats', 'train.zip', path=base_dir)\n",
                "\n",
                "# Descomprimir el archivo\n",
                "zip_path = os.path.join(base_dir, 'train.zip')\n",
                "print(\"Descomprimiendo 'train.zip'...\")\n",
                "with zipfile.ZipFile(zip_path, 'r') as zip_ref:\n",
                "    zip_ref.extractall(base_dir)\n",
                "\n",
                "# Eliminar el archivo ZIP para ahorrar espacio\n",
                "os.remove(zip_path)\n",
                "\n",
                "print(\"Descarga y extracción completa.\")\n"
            ]
        }
    ],
    "metadata": {
        "kernelspec": {
            "display_name": "Python 3",
            "language": "python",
            "name": "python3"
        },
        "language_info": {
            "codemirror_mode": {
                "name": "ipython",
                "version": 3
            },
            "file_extension": ".py",
            "mimetype": "text/x-python",
            "name": "python",
            "nbconvert_exporter": "python",
            "pygments_lexer": "ipython3",
            "version": "3.11.4"
        },
        "orig_nbformat": 4
    },
    "nbformat": 4,
    "nbformat_minor": 2
}
