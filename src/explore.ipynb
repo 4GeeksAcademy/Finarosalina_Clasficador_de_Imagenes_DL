{
    "cells": [
        {
            "cell_type": "markdown",
            "metadata": {},
            "source": [
                "# Explore here"
            ]
        },
        {
            "cell_type": "code",
            "execution_count": 1,
            "metadata": {},
            "outputs": [
                {
                    "name": "stderr",
                    "output_type": "stream",
                    "text": [
                        "2025-05-06 23:30:43.430577: I tensorflow/core/util/port.cc:153] oneDNN custom operations are on. You may see slightly different numerical results due to floating-point round-off errors from different computation orders. To turn them off, set the environment variable `TF_ENABLE_ONEDNN_OPTS=0`.\n",
                        "2025-05-06 23:30:43.451078: I external/local_xla/xla/tsl/cuda/cudart_stub.cc:32] Could not find cuda drivers on your machine, GPU will not be used.\n",
                        "2025-05-06 23:30:43.667380: I external/local_xla/xla/tsl/cuda/cudart_stub.cc:32] Could not find cuda drivers on your machine, GPU will not be used.\n",
                        "2025-05-06 23:30:43.810345: E external/local_xla/xla/stream_executor/cuda/cuda_fft.cc:467] Unable to register cuFFT factory: Attempting to register factory for plugin cuFFT when one has already been registered\n",
                        "WARNING: All log messages before absl::InitializeLog() is called are written to STDERR\n",
                        "E0000 00:00:1746574244.112234    6791 cuda_dnn.cc:8579] Unable to register cuDNN factory: Attempting to register factory for plugin cuDNN when one has already been registered\n",
                        "E0000 00:00:1746574244.217881    6791 cuda_blas.cc:1407] Unable to register cuBLAS factory: Attempting to register factory for plugin cuBLAS when one has already been registered\n",
                        "W0000 00:00:1746574244.856937    6791 computation_placer.cc:177] computation placer already registered. Please check linkage and avoid linking the same target more than once.\n",
                        "W0000 00:00:1746574244.856979    6791 computation_placer.cc:177] computation placer already registered. Please check linkage and avoid linking the same target more than once.\n",
                        "W0000 00:00:1746574244.856982    6791 computation_placer.cc:177] computation placer already registered. Please check linkage and avoid linking the same target more than once.\n",
                        "W0000 00:00:1746574244.856985    6791 computation_placer.cc:177] computation placer already registered. Please check linkage and avoid linking the same target more than once.\n",
                        "2025-05-06 23:30:44.879585: I tensorflow/core/platform/cpu_feature_guard.cc:210] This TensorFlow binary is optimized to use available CPU instructions in performance-critical operations.\n",
                        "To enable the following instructions: AVX2 AVX512F AVX512_VNNI FMA, in other operations, rebuild TensorFlow with the appropriate compiler flags.\n"
                    ]
                }
            ],
            "source": [
                "import pandas as pd\n",
                "from sklearn.model_selection import train_test_split\n",
                "from tensorflow.keras.utils import set_random_seed\n",
                "from sklearn.metrics import accuracy_score\n",
                "from tensorflow.keras.datasets import mnist\n",
                "from tensorflow.keras.layers import Dense, Flatten\n",
                "from tensorflow.keras.models import Sequential\n",
                "from tensorflow.keras.losses import SparseCategoricalCrossentropy"
            ]
        },
        {
            "cell_type": "code",
            "execution_count": null,
            "metadata": {},
            "outputs": [],
            "source": [
                "import zipfile\n",
                "import os\n",
                "\n",
                "# Define las rutas de los archivos zip\n",
                "zip_files = [\n",
                "    './dogs_vs_cats_data/train.zip',    # Ajusta la ruta a la ubicación del archivo train.zip\n",
                "    './dogs_vs_cats_data/test.zip',     # Ajusta la ruta a la ubicación del archivo test.zip\n",
                "    './dogs_vs_cats_data/sample_submission.csv'  # Ajusta la ruta a la ubicación del archivo CSV de la muestra\n",
                "]\n",
                "\n",
                "# Ruta donde descomprimirás los archivos\n",
                "extract_to = '/workspaces/Finarosalina_Clasficador_de_Imagenes_DL/data/raw'\n",
                "\n",
                "# Crear directorio de destino si no existe\n",
                "os.makedirs(extract_to, exist_ok=True)\n",
                "\n",
                "# Descomprimir los archivos ZIP\n",
                "for zip_path in zip_files:\n",
                "    with zipfile.ZipFile(zip_path, 'r') as zip_ref:\n",
                "        zip_ref.extractall(extract_to)\n",
                "    print(f\"Archivo descomprimido: {zip_path}\")\n"
            ]
        },
        {
            "cell_type": "markdown",
            "metadata": {},
            "source": [
                "Requisitos previos (una sola vez)\n",
                "1. Crea tu token de API de Kaggle:\n",
                "Ve a: https://www.kaggle.com/account\n",
                "\n",
                "En la sección API, haz clic en Create New API Token\n",
                "\n",
                "Se descargará un archivo llamado kaggle.json\n",
                "\n",
                "2. Guarda el archivo kaggle.json en tu proyecto:\n",
                "Colócalo en la siguiente ruta (o adapta según tu entorno):\n",
                "\n",
                "bash\n",
                "Copiar\n",
                "Editar\n",
                "/workspaces/Finarosalina_Clasficador_de_Imagenes_DL/kaggle.json"
            ]
        },
        {
            "cell_type": "markdown",
            "metadata": {},
            "source": [
                "import os\n",
                "import zipfile\n",
                "from kaggle.api.kaggle_api_extended import KaggleApi\n",
                "\n",
                "# Ruta base donde trabajarás\n",
                "base_dir = \"/workspaces/Finarosalina_Clasficador_de_Imagenes_DL/data/raw\"\n",
                "os.makedirs(base_dir, exist_ok=True)\n",
                "\n",
                "# Configurar Kaggle API\n",
                "os.environ['KAGGLE_CONFIG_DIR'] = '/workspaces/Finarosalina_Clasficador_de_Imagenes_DL'\n",
                "\n",
                "# Inicializar API\n",
                "api = KaggleApi()\n",
                "api.authenticate()\n",
                "\n",
                "# Descargar el archivo train.zip del dataset\n",
                "print(\"Descargando 'train.zip' desde Kaggle...\")\n",
                "api.competition_download_file('dogs-vs-cats', 'train.zip', path=base_dir)\n",
                "\n",
                "# Descomprimir el archivo\n",
                "zip_path = os.path.join(base_dir, 'train.zip')\n",
                "print(\"Descomprimiendo 'train.zip'...\")\n",
                "with zipfile.ZipFile(zip_path, 'r') as zip_ref:\n",
                "    zip_ref.extractall(base_dir)\n",
                "\n",
                "# Eliminar el archivo ZIP para ahorrar espacio\n",
                "os.remove(zip_path)\n",
                "\n",
                "print(\"Descarga y extracción completa.\")\n"
            ]
        }
    ],
    "metadata": {
        "kernelspec": {
            "display_name": "Python 3",
            "language": "python",
            "name": "python3"
        },
        "language_info": {
            "codemirror_mode": {
                "name": "ipython",
                "version": 3
            },
            "file_extension": ".py",
            "mimetype": "text/x-python",
            "name": "python",
            "nbconvert_exporter": "python",
            "pygments_lexer": "ipython3",
            "version": "3.11.4"
        },
        "orig_nbformat": 4
    },
    "nbformat": 4,
    "nbformat_minor": 2
}
